{
  "nbformat": 4,
  "nbformat_minor": 0,
  "metadata": {
    "kernelspec": {
      "display_name": "Python 3",
      "language": "python",
      "name": "python3"
    },
    "language_info": {
      "codemirror_mode": {
        "name": "ipython",
        "version": 3
      },
      "file_extension": ".py",
      "mimetype": "text/x-python",
      "name": "python",
      "nbconvert_exporter": "python",
      "pygments_lexer": "ipython3",
      "version": "3.7.4"
    },
    "colab": {
      "name": "Transmi_Grafo_Final_.ipynb",
      "provenance": [],
      "collapsed_sections": [],
      "include_colab_link": true
    }
  },
  "cells": [
    {
      "cell_type": "markdown",
      "metadata": {
        "id": "view-in-github",
        "colab_type": "text"
      },
      "source": [
        "<a href=\"https://colab.research.google.com/github/cardwar11/gamejam_2019/blob/master/Transmi_Grafo_Final_.ipynb\" target=\"_parent\"><img src=\"https://colab.research.google.com/assets/colab-badge.svg\" alt=\"Open In Colab\"/></a>"
      ]
    },
    {
      "cell_type": "code",
      "metadata": {
        "id": "m8z0REVtmbqN",
        "colab_type": "code",
        "colab": {}
      },
      "source": [
        "import math\n",
        "import json\n",
        "import numpy as np"
      ],
      "execution_count": 0,
      "outputs": []
    },
    {
      "cell_type": "code",
      "metadata": {
        "id": "oGO0-P0NmbqY",
        "colab_type": "code",
        "colab": {}
      },
      "source": [
        "INF = float('Inf')\n",
        "\n",
        "class vertice:\n",
        "    def __init__(self, num_est, nom_est, lat, lon, tipo, num_tron, nom_tron):\n",
        "        self.num_est = num_est\n",
        "        self.nom_est = nom_est\n",
        "        self.lat = lat\n",
        "        self.lon = lon\n",
        "        self.tipo = tipo\n",
        "        self.numt = num_tron\n",
        "        self.nombt = nom_tron\n",
        "        self.v = 0\n",
        "        self.num_ari = 0\n",
        "        self.list_adj = []"
      ],
      "execution_count": 0,
      "outputs": []
    },
    {
      "cell_type": "code",
      "metadata": {
        "id": "D0r2P4qKmbqg",
        "colab_type": "code",
        "colab": {}
      },
      "source": [
        "class arista:\n",
        "    def __init__(self,vert1,vert2,peso=0):\n",
        "        self.vert1 = vert1\n",
        "        self.vert2 = vert2\n",
        "        self.peso = peso"
      ],
      "execution_count": 0,
      "outputs": []
    },
    {
      "cell_type": "code",
      "metadata": {
        "id": "6HRgMw22mbql",
        "colab_type": "code",
        "colab": {}
      },
      "source": [
        "class grafo():\n",
        "    def __init__(self):\n",
        "        self.dic_vertices = {}\n",
        "        self.dic_aristas = {}\n",
        "        \n",
        "    def agregar_vert(self,num_est, nom_est, lat, lon, tipo, num_tron, nom_tron):\n",
        "        clave = vertice(num_est, nom_est, lat, lon, tipo, num_tron, nom_tron)\n",
        "        self.dic_vertices[clave.nom_est] = clave\n",
        "        \n",
        "    def agregar_arista(self,vert1,vert2,peso):\n",
        "        clave = arista(vert1,vert2,peso)\n",
        "        self.dic_aristas[vert1, vert2] = clave\n",
        "        \n",
        "    def muestra_nom_vert(self):\n",
        "        for k in self.dic_vertices:\n",
        "            print(k, \"\\t\", self.dic_vertices[k].nom_est)\n",
        "    \n",
        "    def calc_dist_vert(self, vert1, vert2):\n",
        "        lat1 = float(self.dic_vertices[vert1].lat)\n",
        "        lat2 = float(self.dic_vertices[vert2].lat)\n",
        "        lon1 = float(self.dic_vertices[vert1].lon)\n",
        "        lon2 = float(self.dic_vertices[vert2].lon)\n",
        "        rad = math.pi / 180\n",
        "        dist1 = (lat2 - lat1)\n",
        "        dist2 = (lon2 - lon1)\n",
        "        R = 6372.795477598\n",
        "        a = (math.sin(rad * dist1 / 2)) ** 2 + math.cos(rad * lat1) * math.cos(rad * lat2)*(math.sin(rad * dist2 / 2)) ** 2\n",
        "        dist_cal = 2 * R * math.asin(math.sqrt(a))\n",
        "        return dist_cal\n",
        "        \n",
        "    \n",
        "    #Bellman Ford:\n",
        "    def SSSP_B(self, G, start):\n",
        "        dic_dist = {}  # Se maneja como un diccionario de distancias a los vértices \n",
        "                # adyacentes a uno determinado. Inicializado en infinito\n",
        "        for v in G.dic_vertices: \n",
        "            dic_dist[v] = float('inf') # Se inicializa en infinito\n",
        "        dic_dist[start] = 0 # La distancia del vértice inicial se inicializa en cero\n",
        "        dic_path = {}  # Representa diccionario de vértices hasta el \"actual\" - Ruta o path\n",
        "        for i in range(len(G.dic_vertices) - 1): # Ejecuta hasta el No. de vértices -1, porque excluye el actual\n",
        "            for u in G.dic_vertices:\n",
        "                for v in G.dic_vertices[u].list_adj: ###\n",
        "                    newDv = dic_dist[u] + G.dic_aristas[u, v].peso\n",
        "                    if newDv < dic_dist[v]:\n",
        "                        dic_path[v] = u\n",
        "                        dic_dist[v] = newDv\n",
        "        return dic_dist, dic_path\n",
        "\n",
        "    \n",
        "    def Ruta_Corta(self, G, start, end):\n",
        "        Origen = start\n",
        "        Destino2 = end\n",
        "        dic_dist,dic_path = self.SSSP_B(G, start) # asignación de valores devueltos por SSSP\n",
        "        ruta = []\n",
        "        while True:\n",
        "            ruta.append(end)\n",
        "            if end == start:\n",
        "                #return Path\n",
        "                break\n",
        "            end = dic_path[end]\n",
        "        ruta.reverse()\n",
        "        #return Path\n",
        "        print(\"La ruta mas corta entre las estaciones:\\n\", \"Origen: \", Origen, \" y \\n\", \"Destino: \", Destino, \"\\nEs de: \", '{0:.1f}'.format(dic_dist[Destino]), \" Kilómetros.\")\n",
        "        print(\"Su recorrido incluye las estaciones: \\n\")\n",
        "        print(\"\\n \".join (ruta))\n",
        "\n",
        "    def matriz(self, x, lista):\n",
        "        temp = []\n",
        "        for y in self.dic_vertices:\n",
        "            if x != y:\n",
        "                if (x, y) in lista:\n",
        "                    r = self.dic_aristas[x, y].peso\n",
        "                else:\n",
        "                    r = INF\n",
        "            else:\n",
        "                r = 0\n",
        "            #h = \"{:.3f}\".format(r)\n",
        "            temp.append(r)\n",
        "        return temp[0:]\n",
        "\n",
        " # APSP\n",
        "def FloydWarshall(W):\n",
        "    n = W.shape[0]  # tiene que ser una matriz cuadrada y n es el numero de filas donde n = No filas\n",
        "    D_list = []  # Save each D^{(k)} matrix\n",
        "    D_list.append(W[:, :])  # D^{(0)} almacena toda la matriz\n",
        "    for k in range(n):\n",
        "        D_k = D_list[k][:, :]\n",
        "        for i in range(n):\n",
        "            for j in range(n):\n",
        "                D_k[i, j] = min(D_list[k][i, j], D_list[k][i, k] + D_list[k][k, j])\n",
        "        D_list.append(np.copy(D_k))\n",
        "    for m in range(n):\n",
        "        print(D_k[m])\n"
      ],
      "execution_count": 0,
      "outputs": []
    },
    {
      "cell_type": "code",
      "metadata": {
        "id": "7PFiBYVGmbqr",
        "colab_type": "code",
        "colab": {}
      },
      "source": [
        "#g = grafo()"
      ],
      "execution_count": 0,
      "outputs": []
    },
    {
      "cell_type": "code",
      "metadata": {
        "id": "-7gZnVX7mbq1",
        "colab_type": "code",
        "colab": {}
      },
      "source": [
        "#g.agregar_vert('Hospital',4.594895,-74.086324,1,'normal',1,'Caracas Sur Usme')"
      ],
      "execution_count": 0,
      "outputs": []
    },
    {
      "cell_type": "code",
      "metadata": {
        "id": "R-yT8oJwmbq5",
        "colab_type": "code",
        "colab": {}
      },
      "source": [
        "#g.agregar_vert('Nariño',4.586337,-74.093883,3,'normal',1,'Caracas Sur Usme')"
      ],
      "execution_count": 0,
      "outputs": []
    },
    {
      "cell_type": "code",
      "metadata": {
        "id": "fWxovGWombq_",
        "colab_type": "code",
        "colab": {}
      },
      "source": [
        "#g.peso('Hospital','Nariño')"
      ],
      "execution_count": 0,
      "outputs": []
    },
    {
      "cell_type": "code",
      "metadata": {
        "id": "1-c8EFaRmbrF",
        "colab_type": "code",
        "colab": {}
      },
      "source": [
        "#g.agregar_arista('Hospital','Nariño',g.peso)"
      ],
      "execution_count": 0,
      "outputs": []
    },
    {
      "cell_type": "code",
      "metadata": {
        "id": "HVQ-oQ2nmbrN",
        "colab_type": "code",
        "colab": {}
      },
      "source": [
        "#g.peso('Hospital','Nariño')"
      ],
      "execution_count": 0,
      "outputs": []
    },
    {
      "cell_type": "code",
      "metadata": {
        "id": "a5R-7DZymbrR",
        "colab_type": "code",
        "colab": {}
      },
      "source": [
        "#g.arista"
      ],
      "execution_count": 0,
      "outputs": []
    },
    {
      "cell_type": "code",
      "metadata": {
        "id": "P4Owk8tJmbrV",
        "colab_type": "code",
        "colab": {}
      },
      "source": [
        "#g.SSSP_B(g,'Hospital')"
      ],
      "execution_count": 0,
      "outputs": []
    },
    {
      "cell_type": "code",
      "metadata": {
        "id": "nLndBdZRmbrb",
        "colab_type": "code",
        "colab": {}
      },
      "source": [
        "lista_ar = []\n",
        "g = grafo()\n",
        "Vmayor = None\n",
        "#%%\n",
        "with open('/content/sistema.json') as file:\n",
        "    data = json.load(file)\n",
        "\n",
        "    #lista con tronc. y estac.\n",
        "\n",
        "    for troncales in data['troncales']:\n",
        "        namet = troncales['nombreT']\n",
        "        numtr = troncales['n_t']\n",
        "        for parametro in troncales['estaciones']:\n",
        "            ne = parametro['nombreE']\n",
        "            ld = parametro['latitud']\n",
        "            lg = parametro['longitud']\n",
        "            nm = parametro['numero']\n",
        "            tp = parametro['tipo']\n",
        "            g.agregar_vert(nm, ne, ld, lg, tp, numtr, namet)\n",
        "            for c in range(len(parametro['adj'])):\n",
        "                g.dic_vertices[ne].list_adj.append(parametro['adj'][c])\n",
        "\n",
        "    for a in data['troncales']:\n",
        "        for b in a['estaciones']:\n",
        "            for c in range(len(b['adj'])):\n",
        "                v1 = b['nombreE']\n",
        "                v2 = b['adj'][c]\n",
        "                rp = g.calc_dist_vert(v1,v2)\n",
        "                g.agregar_arista(v1,v2,rp)\n",
        "                lista_ar.append((v1,v2))\n",
        "                g.dic_vertices[v1].num_ari += 1"
      ],
      "execution_count": 0,
      "outputs": []
    },
    {
      "cell_type": "code",
      "metadata": {
        "id": "NWOrfiAlmbre",
        "colab_type": "code",
        "outputId": "73006944-e723-45d3-c71d-3493f13040df",
        "colab": {
          "base_uri": "https://localhost:8080/",
          "height": 51
        }
      },
      "source": [
        "# Vértice de mayor grado\n",
        "cont_ari = 0 # contador de aristas\n",
        "lis_v_m_g = g.dic_vertices.keys() # lista que almacena las \"claves\" de cada vértice\n",
        "for i in lis_v_m_g: # itera en dicha lista\n",
        "    n_a = g.dic_vertices[i].num_ari # n_a : almacena número de aristas de cada vértice en cada\n",
        "                                #iteración\n",
        "    if n_a > cont_ari: # si n_a es mayor al contador\n",
        "        cont_ari = n_a # cont_ari le asigna ese valor\n",
        "        vert_may_g = i # y a vert_may_g, le asigna el nombre del vértice de\n",
        "                     # mayor grado en esa iteración. \n",
        "print(\"Vértice con mayor grado: \", vert_may_g, \" \\nNúmero de aristas que inciden en él: \", cont_ari)"
      ],
      "execution_count": 150,
      "outputs": [
        {
          "output_type": "stream",
          "text": [
            "Vértice con mayor grado:  Calle 26  \n",
            "Número de aristas que inciden en él:  4\n"
          ],
          "name": "stdout"
        }
      ]
    },
    {
      "cell_type": "code",
      "metadata": {
        "id": "BmHXzDHRmbrl",
        "colab_type": "code",
        "outputId": "234fa1c3-8ec4-420f-c48e-a95267943398",
        "colab": {
          "base_uri": "https://localhost:8080/",
          "height": 224
        }
      },
      "source": [
        "print(g.dic_aristas)\n",
        "Origen = (input(\"Ingrese estación Origen: \"))\n",
        "Destino = (input(\"Ingrese estación Destino: \"))\n",
        "g.Ruta_Corta(g, Origen, Destino) \n"
      ],
      "execution_count": 151,
      "outputs": [
        {
          "output_type": "stream",
          "text": [
            "{('Hospital', 'Tercer Milenio'): <__main__.arista object at 0x7fd7d86c8908>, ('Hospital', 'Hortua'): <__main__.arista object at 0x7fd7d86c8898>, ('Hortua', 'Hospital'): <__main__.arista object at 0x7fd7d88c9e48>, ('Hortua', 'Narino'): <__main__.arista object at 0x7fd7d8734080>, ('Narino', 'Hortua'): <__main__.arista object at 0x7fd7d8725860>, ('Narino', 'Fucha'): <__main__.arista object at 0x7fd7d8725748>, ('Fucha', 'Narino'): <__main__.arista object at 0x7fd7d87257f0>, ('Fucha', 'Restrepo'): <__main__.arista object at 0x7fd7d87255c0>, ('Restrepo', 'Fucha'): <__main__.arista object at 0x7fd7d8725438>, ('Restrepo', 'Olaya'): <__main__.arista object at 0x7fd7d87250f0>, ('Olaya', 'Restrepo'): <__main__.arista object at 0x7fd7d87ed550>, ('Olaya', 'Quiroga'): <__main__.arista object at 0x7fd7d87edac8>, ('Quiroga', 'Olaya'): <__main__.arista object at 0x7fd7d87ed908>, ('Quiroga', 'Calle 40 sur'): <__main__.arista object at 0x7fd7d87ed9e8>, ('Calle 40 sur', 'Quiroga'): <__main__.arista object at 0x7fd7d87ed978>, ('Calle 40 sur', 'Santa Lucia'): <__main__.arista object at 0x7fd7d87eda90>, ('Santa Lucia', 'Calle 40 sur'): <__main__.arista object at 0x7fd7d87ed860>, ('Santa Lucia', 'Socorro'): <__main__.arista object at 0x7fd7d87ed2e8>, ('Santa Lucia', 'Biblioteca'): <__main__.arista object at 0x7fd7d87ed160>, ('Socorro', 'Santa Lucia'): <__main__.arista object at 0x7fd7d87ed780>, ('Socorro', 'Consuelo'): <__main__.arista object at 0x7fd7d87ed208>, ('Consuelo', 'Socorro'): <__main__.arista object at 0x7fd7d87ed438>, ('Consuelo', 'Molinos'): <__main__.arista object at 0x7fd7d87ed828>, ('Molinos', 'Consuelo'): <__main__.arista object at 0x7fd7d87edbe0>, ('Molinos', 'Portal Usme'): <__main__.arista object at 0x7fd7d87ed5c0>, ('Portal Usme', 'Molinos'): <__main__.arista object at 0x7fd7d87eda20>, ('Calle 76', 'Heroes'): <__main__.arista object at 0x7fd7d87ed630>, ('Calle 76', 'Polo'): <__main__.arista object at 0x7fd7d87eddd8>, ('Calle 76', 'Calle 72'): <__main__.arista object at 0x7fd7d87edcc0>, ('Calle 72', 'Calle 76'): <__main__.arista object at 0x7fd7d87ed6d8>, ('Calle 72', 'Flores'): <__main__.arista object at 0x7fd7d87ed8d0>, ('Flores', 'Calle 72'): <__main__.arista object at 0x7fd7d87ed128>, ('Flores', 'Calle 63'): <__main__.arista object at 0x7fd7d87ed080>, ('Calle 63', 'Flores'): <__main__.arista object at 0x7fd7d87ed390>, ('Calle 63', 'Calle 57'): <__main__.arista object at 0x7fd7d87ed358>, ('Calle 57', 'Calle 63'): <__main__.arista object at 0x7fd7d87ed1d0>, ('Calle 57', 'Marly'): <__main__.arista object at 0x7fd7d87edf98>, ('Marly', 'Calle 57'): <__main__.arista object at 0x7fd7d87edc88>, ('Marly', 'Calle 45'): <__main__.arista object at 0x7fd7d87ed2b0>, ('Calle 45', 'Marly'): <__main__.arista object at 0x7fd7d87ed7f0>, ('Calle 45', 'Avenida 39'): <__main__.arista object at 0x7fd7d87ed0b8>, ('Avenida 39', 'Calle 45'): <__main__.arista object at 0x7fd7d87233c8>, ('Avenida 39', 'Calle 34'): <__main__.arista object at 0x7fd7d87232b0>, ('Calle 34', 'Avenida 39'): <__main__.arista object at 0x7fd7d8723278>, ('Calle 34', 'Calle 26'): <__main__.arista object at 0x7fd7d8723fd0>, ('Calle 26', 'Calle 34'): <__main__.arista object at 0x7fd7d8723f98>, ('Calle 26', 'Calle 22'): <__main__.arista object at 0x7fd7d8723f60>, ('Calle 26', 'Centro Memoria'): <__main__.arista object at 0x7fd7d8723f28>, ('Calle 26', 'Universidades'): <__main__.arista object at 0x7fd7d8723ef0>, ('Calle 22', 'Calle 26'): <__main__.arista object at 0x7fd7d8723eb8>, ('Calle 22', 'Calle 19'): <__main__.arista object at 0x7fd7d8723e80>, ('Calle 22', 'Centro Memoria'): <__main__.arista object at 0x7fd7d8723e48>, ('Calle 19', 'Calle 22'): <__main__.arista object at 0x7fd7d8723e10>, ('Calle 19', 'Jimenez'): <__main__.arista object at 0x7fd7d8723dd8>, ('Jimenez', 'Calle 19'): <__main__.arista object at 0x7fd7d8723da0>, ('Jimenez', 'Tercer Milenio'): <__main__.arista object at 0x7fd7d8723d68>, ('Jimenez', 'De la Sabana'): <__main__.arista object at 0x7fd7d8723d30>, ('Jimenez', 'Las Aguas'): <__main__.arista object at 0x7fd7d8723cf8>, ('Tercer Milenio', 'Jimenez'): <__main__.arista object at 0x7fd7d8723cc0>, ('Tercer Milenio', 'Hospital'): <__main__.arista object at 0x7fd7d8723c88>, ('Terminal', 'Calle 187'): <__main__.arista object at 0x7fd7d8723c50>, ('Calle 187', 'Terminal'): <__main__.arista object at 0x7fd7d8723c18>, ('Calle 187', 'Portal Norte'): <__main__.arista object at 0x7fd7d8723be0>, ('Portal Norte', 'Calle 187'): <__main__.arista object at 0x7fd7d8723ba8>, ('Portal Norte', 'Toberin'): <__main__.arista object at 0x7fd7d8723b70>, ('Toberin', 'Portal Norte'): <__main__.arista object at 0x7fd7d8723b38>, ('Toberin', 'Calle 161'): <__main__.arista object at 0x7fd7d8723b00>, ('Calle 161', 'Toberin'): <__main__.arista object at 0x7fd7d8723ac8>, ('Calle 161', 'Mazuren'): <__main__.arista object at 0x7fd7d8723a90>, ('Mazuren', 'Calle 161'): <__main__.arista object at 0x7fd7d8723a58>, ('Mazuren', 'Calle 146'): <__main__.arista object at 0x7fd7d8723a20>, ('Calle 146', 'Mazuren'): <__main__.arista object at 0x7fd7d87239e8>, ('Calle 146', 'Calle 142'): <__main__.arista object at 0x7fd7d87239b0>, ('Calle 142', 'Calle 146'): <__main__.arista object at 0x7fd7d8723978>, ('Calle 142', 'Alcala'): <__main__.arista object at 0x7fd7d8723940>, ('Alcala', 'Calle 142'): <__main__.arista object at 0x7fd7d8723908>, ('Alcala', 'Prado'): <__main__.arista object at 0x7fd7d87238d0>, ('Prado', 'Alcala'): <__main__.arista object at 0x7fd7d8723898>, ('Prado', 'Calle 127'): <__main__.arista object at 0x7fd7d8723860>, ('Calle 127', 'Prado'): <__main__.arista object at 0x7fd7d8723828>, ('Calle 127', 'Pepe Sierra'): <__main__.arista object at 0x7fd7d87237f0>, ('Pepe Sierra', 'Calle 127'): <__main__.arista object at 0x7fd7d87237b8>, ('Pepe Sierra', 'Calle 106'): <__main__.arista object at 0x7fd7d8723780>, ('Calle 106', 'Pepe Sierra'): <__main__.arista object at 0x7fd7d8723748>, ('Calle 106', 'Calle 100'): <__main__.arista object at 0x7fd7d8723710>, ('Calle 100', 'Calle 106'): <__main__.arista object at 0x7fd7d87236d8>, ('Calle 100', 'Virrey'): <__main__.arista object at 0x7fd7d87236a0>, ('Calle 100', 'Castellana'): <__main__.arista object at 0x7fd7d8723668>, ('Virrey', 'Calle 100'): <__main__.arista object at 0x7fd7d8723630>, ('Virrey', 'Calle 85'): <__main__.arista object at 0x7fd7d87235f8>, ('Calle 85', 'Virrey'): <__main__.arista object at 0x7fd7d87235c0>, ('Calle 85', 'Heroes'): <__main__.arista object at 0x7fd7d8723588>, ('Heroes', 'Calle 85'): <__main__.arista object at 0x7fd7d8723550>, ('Heroes', 'Calle 72'): <__main__.arista object at 0x7fd7d8723518>, ('Heroes', 'Polo'): <__main__.arista object at 0x7fd7d87234e0>, ('Portal Suba', 'La Campina'): <__main__.arista object at 0x7fd7d87234a8>, ('La Campina', 'Portal Suba'): <__main__.arista object at 0x7fd7d8723358>, ('La Campina', 'Suba-TV 91'): <__main__.arista object at 0x7fd7d8723470>, ('Suba-TV 91', 'La Campina'): <__main__.arista object at 0x7fd7d87232e8>, ('Suba-TV 91', '21 Angeles'): <__main__.arista object at 0x7fd7d8723438>, ('21 Angeles', 'Suba-TV 91'): <__main__.arista object at 0x7fd7d8723208>, ('21 Angeles', 'Gratamira'): <__main__.arista object at 0x7fd7d8723400>, ('Gratamira', '21 Angeles'): <__main__.arista object at 0x7fd7d8723198>, ('Gratamira', 'Suba AV Boyaca'): <__main__.arista object at 0x7fd7d8723128>, ('Suba AV Boyaca', 'Gratamira'): <__main__.arista object at 0x7fd7d87230b8>, ('Suba AV Boyaca', 'Niza - Calle 127'): <__main__.arista object at 0x7fd7d8723048>, ('Niza - Calle 127', 'Suba AV Boyaca'): <__main__.arista object at 0x7fd7d8723240>, ('Niza - Calle 127', 'Humedal Cordoba'): <__main__.arista object at 0x7fd7d86d3978>, ('Humedal Cordoba', 'Niza - Calle 127'): <__main__.arista object at 0x7fd7d86d39b0>, ('Humedal Cordoba', 'Av Suba CL 116'): <__main__.arista object at 0x7fd7d86d39e8>, ('Av Suba CL 116', 'Humedal Cordoba'): <__main__.arista object at 0x7fd7d86d3a20>, ('Av Suba CL 116', 'Puentelargo'): <__main__.arista object at 0x7fd7d86d3a58>, ('Puentelargo', 'Av Suba CL 116'): <__main__.arista object at 0x7fd7d86d3a90>, ('Puentelargo', 'Suba CL 100'): <__main__.arista object at 0x7fd7d86d3ac8>, ('Suba CL 100', 'Puentelargo'): <__main__.arista object at 0x7fd7d86d3b00>, ('Suba CL 100', 'Suba CL 95'): <__main__.arista object at 0x7fd7d86d3b38>, ('Suba CL 95', 'Suba CL 100'): <__main__.arista object at 0x7fd7d86d3b70>, ('Suba CL 95', 'Rionegro'): <__main__.arista object at 0x7fd7d86d3ba8>, ('Rionegro', 'Suba CL 95'): <__main__.arista object at 0x7fd7d86d3be0>, ('Rionegro', 'San Martin'): <__main__.arista object at 0x7fd7d86d3c18>, ('San Martin', 'Rionegro'): <__main__.arista object at 0x7fd7d86d3c50>, ('San Martin', 'Escuela militar'): <__main__.arista object at 0x7fd7d86d3c88>, ('Portal 80', 'Quirigua'): <__main__.arista object at 0x7fd7d86d3cc0>, ('Quirigua', 'Portal 80'): <__main__.arista object at 0x7fd7d86d3cf8>, ('Quirigua', 'Carrera 90'): <__main__.arista object at 0x7fd7d86d3d30>, ('Carrera 90', 'Quirigua'): <__main__.arista object at 0x7fd7d86d3d68>, ('Carrera 90', 'Avenida Cali'): <__main__.arista object at 0x7fd7d86d3da0>, ('Avenida Cali', 'Carrera 90'): <__main__.arista object at 0x7fd7d86d3dd8>, ('Avenida Cali', 'Granja KRR 77'): <__main__.arista object at 0x7fd7d86d3e10>, ('Granja KRR 77', 'Avenida Cali'): <__main__.arista object at 0x7fd7d86d3e48>, ('Granja KRR 77', 'Minuto de Dios'): <__main__.arista object at 0x7fd7d86d3e80>, ('Minuto de Dios', 'Granja KRR 77'): <__main__.arista object at 0x7fd7d86d3eb8>, ('Minuto de Dios', 'Boyaca'): <__main__.arista object at 0x7fd7d86d3ef0>, ('Boyaca', 'Minuto de Dios'): <__main__.arista object at 0x7fd7d86d3f28>, ('Boyaca', 'Ferias'): <__main__.arista object at 0x7fd7d86d3f60>, ('Ferias', 'Boyaca'): <__main__.arista object at 0x7fd7d86d3f98>, ('Ferias', 'Avenida 68'): <__main__.arista object at 0x7fd7d86d3fd0>, ('Avenida 68', 'Ferias'): <__main__.arista object at 0x7fd7d8737048>, ('Avenida 68', 'Carrera 53'): <__main__.arista object at 0x7fd7d8737080>, ('Carrera 53', 'Avenida 68'): <__main__.arista object at 0x7fd7d87370b8>, ('Carrera 53', 'Carrera 47'): <__main__.arista object at 0x7fd7d87370f0>, ('Carrera 47', 'Carrera 53'): <__main__.arista object at 0x7fd7d8737128>, ('Carrera 47', 'Escuela militar'): <__main__.arista object at 0x7fd7d8737160>, ('Escuela militar', 'Carrera 47'): <__main__.arista object at 0x7fd7d8737198>, ('Escuela militar', 'Polo'): <__main__.arista object at 0x7fd7d87371d0>, ('Polo', 'Escuela militar'): <__main__.arista object at 0x7fd7d8737208>, ('Polo', 'Heroes'): <__main__.arista object at 0x7fd7d8737240>, ('Polo', 'Calle 76'): <__main__.arista object at 0x7fd7d8737278>, ('Castellana', 'Calle 100'): <__main__.arista object at 0x7fd7d87372b0>, ('Castellana', 'NQS Calle 75'): <__main__.arista object at 0x7fd7d87372e8>, ('NQS Calle 75', 'Castellana'): <__main__.arista object at 0x7fd7d8737320>, ('NQS Calle 75', 'Av Chile'): <__main__.arista object at 0x7fd7d8737358>, ('Av Chile', 'NQS Calle 75'): <__main__.arista object at 0x7fd7d8737390>, ('Av Chile', 'Simon Bolivar'): <__main__.arista object at 0x7fd7d87373c8>, ('Simon Bolivar', 'Av Chile'): <__main__.arista object at 0x7fd7d8737400>, ('Simon Bolivar', 'Movistar Arena'): <__main__.arista object at 0x7fd7d8737438>, ('Movistar Arena', 'Simon Bolivar'): <__main__.arista object at 0x7fd7d8737470>, ('Movistar Arena', 'Campin -UAN'): <__main__.arista object at 0x7fd7d87374a8>, ('Campin -UAN', 'Movistar Arena'): <__main__.arista object at 0x7fd7d87374e0>, ('Campin -UAN', 'U. Nacional'): <__main__.arista object at 0x7fd7d8737518>, ('U. Nacional', 'Campin -UAN'): <__main__.arista object at 0x7fd7d8737550>, ('U. Nacional', 'A. El Dorado'): <__main__.arista object at 0x7fd7d8737588>, ('A. El Dorado', 'U. Nacional'): <__main__.arista object at 0x7fd7d87375c0>, ('A. El Dorado', 'CAD'): <__main__.arista object at 0x7fd7d87375f8>, ('CAD', 'A. El Dorado'): <__main__.arista object at 0x7fd7d8737630>, ('CAD', 'Paloquemao'): <__main__.arista object at 0x7fd7d8737668>, ('Paloquemao', 'CAD'): <__main__.arista object at 0x7fd7d87376a0>, ('Paloquemao', 'Ricaurte'): <__main__.arista object at 0x7fd7d87376d8>, ('Guatoque - Veraguas', 'Paloquemao'): <__main__.arista object at 0x7fd7d8737710>, ('Guatoque - Veraguas', 'Tygua - San jose'): <__main__.arista object at 0x7fd7d8737748>, ('Tygua - San jose', 'Guatoque - Veraguas'): <__main__.arista object at 0x7fd7d8737780>, ('De la Sabana', 'Jimenez'): <__main__.arista object at 0x7fd7d87377b8>, ('De la Sabana', 'San Facon - KRR 22'): <__main__.arista object at 0x7fd7d87377f0>, ('San Facon - KRR 22', 'De la Sabana'): <__main__.arista object at 0x7fd7d8737828>, ('San Facon - KRR 22', 'Ricaurte'): <__main__.arista object at 0x7fd7d8737860>, ('Ricaurte', 'San Facon - KRR 22'): <__main__.arista object at 0x7fd7d8737898>, ('Ricaurte', 'CDS - Carrera 32'): <__main__.arista object at 0x7fd7d87378d0>, ('Ricaurte', 'Paloquemao'): <__main__.arista object at 0x7fd7d8737908>, ('Ricaurte', 'Comuneros'): <__main__.arista object at 0x7fd7d8737940>, ('CDS - Carrera 32', 'CDS - Carrera 32'): <__main__.arista object at 0x7fd7d8737978>, ('CDS - Carrera 32', 'Zona Industrial'): <__main__.arista object at 0x7fd7d87379b0>, ('Zona Industrial', 'CDS - Carrera 32'): <__main__.arista object at 0x7fd7d87379e8>, ('Zona Industrial', 'Carrera 43'): <__main__.arista object at 0x7fd7d8737a20>, ('Carrera 43', 'Zona Industrial'): <__main__.arista object at 0x7fd7d8737a58>, ('Carrera 43', 'Puente Aranda'): <__main__.arista object at 0x7fd7d8737a90>, ('Puente Aranda', 'Carrera 43'): <__main__.arista object at 0x7fd7d8737ac8>, ('Puente Aranda', 'Distrito Grafiti'): <__main__.arista object at 0x7fd7d8737b00>, ('Distrito Grafiti', 'Puente Aranda'): <__main__.arista object at 0x7fd7d8737b38>, ('Distrito Grafiti', 'Pradera'): <__main__.arista object at 0x7fd7d8737b70>, ('Pradera', 'Distrito Grafiti'): <__main__.arista object at 0x7fd7d8737ba8>, ('Pradera', 'Marsella'): <__main__.arista object at 0x7fd7d8737be0>, ('Marsella', 'Pradera'): <__main__.arista object at 0x7fd7d8737c18>, ('Marsella', 'AV Americas AV Boyaca'): <__main__.arista object at 0x7fd7d8737c50>, ('AV Americas AV Boyaca', 'Marsella'): <__main__.arista object at 0x7fd7d8737c88>, ('AV Americas AV Boyaca', 'Mandalay'): <__main__.arista object at 0x7fd7d8737cc0>, ('Mandalay', 'AV Americas AV Boyaca'): <__main__.arista object at 0x7fd7d8737cf8>, ('Mandalay', 'Banderas'): <__main__.arista object at 0x7fd7d8737d30>, ('Banderas', 'Mandalay'): <__main__.arista object at 0x7fd7d8737d68>, ('Banderas', 'Transversal 86'): <__main__.arista object at 0x7fd7d8737da0>, ('Transversal 86', 'Banderas'): <__main__.arista object at 0x7fd7d8737dd8>, ('Transversal 86', 'Biblioteca el Tintal'): <__main__.arista object at 0x7fd7d8737e10>, ('Biblioteca el Tintal', 'Transversal 86'): <__main__.arista object at 0x7fd7d8737e48>, ('Biblioteca el Tintal', 'Patio Bonito'): <__main__.arista object at 0x7fd7d8737e80>, ('Patio Bonito', 'Biblioteca el Tintal'): <__main__.arista object at 0x7fd7d8737eb8>, ('Patio Bonito', 'Portal Americas'): <__main__.arista object at 0x7fd7d8737ef0>, ('Portal Americas', 'Patio Bonito'): <__main__.arista object at 0x7fd7d8737f28>, ('Comuneros', 'Ricaurte'): <__main__.arista object at 0x7fd7d8737f60>, ('Comuneros', 'Santa Isabel'): <__main__.arista object at 0x7fd7d8737f98>, ('Santa Isabel', 'Comuneros'): <__main__.arista object at 0x7fd7d8737fd0>, ('Santa Isabel', 'Sena'): <__main__.arista object at 0x7fd7d873d048>, ('Sena', 'Santa Isabel'): <__main__.arista object at 0x7fd7d873d080>, ('Sena', 'NQS CLL 30 Sur'): <__main__.arista object at 0x7fd7d873d0b8>, ('NQS CLL 30 Sur', 'Sena'): <__main__.arista object at 0x7fd7d873d0f0>, ('NQS CLL 30 Sur', 'NQS CLL 38A Sur'): <__main__.arista object at 0x7fd7d873d128>, ('NQS CLL 38A Sur', 'NQS CLL 30 Sur'): <__main__.arista object at 0x7fd7d873d160>, ('NQS CLL 38A Sur', 'Gral Santander'): <__main__.arista object at 0x7fd7d873d198>, ('Gral Santander', 'NQS CLL 38A Sur'): <__main__.arista object at 0x7fd7d873d1d0>, ('Gral Santander', 'Alqueria'): <__main__.arista object at 0x7fd7d873d208>, ('Alqueria', 'Gral Santander'): <__main__.arista object at 0x7fd7d873d240>, ('Alqueria', 'Venecia'): <__main__.arista object at 0x7fd7d873d278>, ('Venecia', 'Alqueria'): <__main__.arista object at 0x7fd7d873d2b0>, ('Venecia', 'Sevillana'): <__main__.arista object at 0x7fd7d873d2e8>, ('Sevillana', 'Venecia'): <__main__.arista object at 0x7fd7d873d320>, ('Sevillana', 'Madelena'): <__main__.arista object at 0x7fd7d873d358>, ('Madelena', 'Sevillana'): <__main__.arista object at 0x7fd7d873d390>, ('Madelena', 'Perdomo'): <__main__.arista object at 0x7fd7d873d3c8>, ('Perdomo', 'Madelena'): <__main__.arista object at 0x7fd7d873d400>, ('Perdomo', 'Portal Sur'): <__main__.arista object at 0x7fd7d873d438>, ('Portal Sur', 'Perdomo'): <__main__.arista object at 0x7fd7d873d470>, ('Portal Sur', 'Bosa'): <__main__.arista object at 0x7fd7d873d4a8>, ('Bosa', 'Portal Sur'): <__main__.arista object at 0x7fd7d873d4e0>, ('Bosa', 'Despensa'): <__main__.arista object at 0x7fd7d873d518>, ('Despensa', 'Bosa'): <__main__.arista object at 0x7fd7d873d550>, ('Despensa', 'Leon XVIII'): <__main__.arista object at 0x7fd7d873d588>, ('Leon XVIII', 'Despensa'): <__main__.arista object at 0x7fd7d873d5c0>, ('Leon XVIII', 'Terreros'): <__main__.arista object at 0x7fd7d873d5f8>, ('Terreros', 'Leon XVIII'): <__main__.arista object at 0x7fd7d873d630>, ('Terreros', 'San Mateo'): <__main__.arista object at 0x7fd7d873d668>, ('San Mateo', 'Terreros'): <__main__.arista object at 0x7fd7d873d6a0>, ('Museo del Oro', 'Jimenez'): <__main__.arista object at 0x7fd7d873d6d8>, ('Museo del Oro', 'Las Aguas'): <__main__.arista object at 0x7fd7d873d710>, ('Las Aguas', 'Museo del Oro'): <__main__.arista object at 0x7fd7d873d748>, ('Las Aguas', 'Universidades'): <__main__.arista object at 0x7fd7d873d780>, ('Universidades', 'Las Aguas'): <__main__.arista object at 0x7fd7d873d7b8>, ('Universidades', 'Centro Memoria'): <__main__.arista object at 0x7fd7d873d7f0>, ('Centro Memoria', 'Universidades'): <__main__.arista object at 0x7fd7d873d828>, ('Centro Memoria', 'Concejo de Bogota'): <__main__.arista object at 0x7fd7d873d860>, ('Centro Memoria', 'Calle 26'): <__main__.arista object at 0x7fd7d873d898>, ('Concejo de Bogota', 'Centro Memoria'): <__main__.arista object at 0x7fd7d873d8d0>, ('Concejo de Bogota', 'Ciudad Universitaria'): <__main__.arista object at 0x7fd7d873d908>, ('Ciudad Universitaria', 'Concejo de Bogota'): <__main__.arista object at 0x7fd7d873d940>, ('Ciudad Universitaria', 'Recinto Ferial'): <__main__.arista object at 0x7fd7d873d978>, ('Recinto Ferial', 'Ciudad Universitaria'): <__main__.arista object at 0x7fd7d873d9b0>, ('Recinto Ferial', 'Quinta Paredes'): <__main__.arista object at 0x7fd7d873d9e8>, ('Quinta Paredes', 'Recinto Ferial'): <__main__.arista object at 0x7fd7d873da20>, ('Quinta Paredes', 'Gobernacion'): <__main__.arista object at 0x7fd7d873da58>, ('Gobernacion', 'Quinta Paredes'): <__main__.arista object at 0x7fd7d873da90>, ('Gobernacion', 'CAN'): <__main__.arista object at 0x7fd7d873dac8>, ('CAN', 'Gobernacion'): <__main__.arista object at 0x7fd7d873db00>, ('CAN', 'Salitre - El Greco'): <__main__.arista object at 0x7fd7d873db38>, ('Salitre - El Greco', 'CAN'): <__main__.arista object at 0x7fd7d873db70>, ('Salitre - El Greco', 'El Tiempo - Maloka'): <__main__.arista object at 0x7fd7d873dba8>, ('El Tiempo - Maloka', 'Salitre - El Greco'): <__main__.arista object at 0x7fd7d873dbe0>, ('El Tiempo - Maloka', 'Av Rojas'): <__main__.arista object at 0x7fd7d873dc18>, ('Av Rojas', 'El Tiempo - Maloka'): <__main__.arista object at 0x7fd7d873dc50>, ('Av Rojas', 'Normandia'): <__main__.arista object at 0x7fd7d873dc88>, ('Normandia', 'Av Rojas'): <__main__.arista object at 0x7fd7d873dcc0>, ('Normandia', 'Modelia'): <__main__.arista object at 0x7fd7d873dcf8>, ('Modelia', 'Normandia'): <__main__.arista object at 0x7fd7d873dd30>, ('Modelia', 'Portal El dorado'): <__main__.arista object at 0x7fd7d873dd68>, ('Portal El dorado', 'Modelia'): <__main__.arista object at 0x7fd7d873dda0>, ('San Diego', 'Las Nieves'): <__main__.arista object at 0x7fd7d873ddd8>, ('Las Nieves', 'San Diego'): <__main__.arista object at 0x7fd7d873de10>, ('Las Nieves', 'San Victorino'): <__main__.arista object at 0x7fd7d873de48>, ('San Victorino', 'Las Nieves'): <__main__.arista object at 0x7fd7d873de80>, ('San Victorino', 'Bicentenario'): <__main__.arista object at 0x7fd7d873deb8>, ('Bicentenario', 'San Victorino'): <__main__.arista object at 0x7fd7d873def0>, ('Bicentenario', 'San Bernardo'): <__main__.arista object at 0x7fd7d873df28>, ('San Bernardo', 'Bicentenario'): <__main__.arista object at 0x7fd7d873df60>, ('San Bernardo', 'Policarpa'): <__main__.arista object at 0x7fd7d873df98>, ('Policarpa', 'San Bernardo'): <__main__.arista object at 0x7fd7d873dfd0>, ('Policarpa', 'Ciudad Jardin'): <__main__.arista object at 0x7fd7d8705048>, ('Ciudad Jardin', 'Policarpa'): <__main__.arista object at 0x7fd7d8705080>, ('Ciudad Jardin', 'Av 1 de Mayo'): <__main__.arista object at 0x7fd7d87050b8>, ('Av 1 de Mayo', 'Ciudad Jardin'): <__main__.arista object at 0x7fd7d87050f0>, ('Av 1 de Mayo', 'Country Sur'): <__main__.arista object at 0x7fd7d8705128>, ('Country Sur', 'Av 1 de Mayo'): <__main__.arista object at 0x7fd7d8705160>, ('Country Sur', 'Portal 20 de Julio'): <__main__.arista object at 0x7fd7d8705198>, ('Portal 20 de Julio', 'Country Sur'): <__main__.arista object at 0x7fd7d87051d0>, ('Biblioteca', 'Santa Lucia'): <__main__.arista object at 0x7fd7d8705208>, ('Biblioteca', 'Parque'): <__main__.arista object at 0x7fd7d8705240>, ('Parque', 'Biblioteca'): <__main__.arista object at 0x7fd7d8705278>, ('Parque', 'Portal Tunal'): <__main__.arista object at 0x7fd7d87052b0>, ('Portal Tunal', 'Parque'): <__main__.arista object at 0x7fd7d87052e8>}\n",
            "Ingrese estación Origen: Calle 34\n",
            "Ingrese estación Destino: Calle 26\n",
            "La ruta mas corta entre las estaciones:\n",
            " Origen:  Calle 34  y \n",
            " Destino:  Calle 26 \n",
            "Es de:  0.7  Kilómetros.\n",
            "Su recorrido incluye las estaciones: \n",
            "\n",
            "Calle 34\n",
            " Calle 26\n"
          ],
          "name": "stdout"
        }
      ]
    },
    {
      "cell_type": "code",
      "metadata": {
        "id": "ruW1dNjQmbrt",
        "colab_type": "code",
        "colab": {}
      },
      "source": [
        "#EJECUTAR APS\n",
        "matriz_d = []\n",
        "for i in g.dic_vertices:\n",
        "     w = g.matriz(i, lista_ar)\n",
        "     matriz_d.append(w)\n",
        "     Fl =np.matrix(matriz_d)\n",
        "\n",
        "\n",
        "\n",
        "print('\\nMatriz de adyacencia de APSP\\n')\n",
        "FloydWarshall(Fl)\n",
        "\n",
        "\n"
      ],
      "execution_count": 0,
      "outputs": []
    }
  ]
}